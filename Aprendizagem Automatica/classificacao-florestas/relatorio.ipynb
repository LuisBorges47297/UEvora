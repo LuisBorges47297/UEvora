{
 "cells": [
  {
   "cell_type": "markdown",
   "id": "a1c9d93b-87a4-4e03-9e63-4d67cf53e340",
   "metadata": {},
   "source": [
    "# Classificação de florestas"
   ]
  },
  {
   "cell_type": "code",
   "execution_count": 1,
   "id": "a9ff5f47-3fee-4fa9-8bcc-6562c8e93dd4",
   "metadata": {},
   "outputs": [],
   "source": [
    "!pip install -q kaggle\n",
    "#!mkdir ~/.kaggle\n",
    "!cp dados/kaggle.json ~/.kaggle/\n",
    "!chmod 600 ~/.kaggle/kaggle.json"
   ]
  },
  {
   "cell_type": "code",
   "execution_count": 2,
   "id": "e244af50-0379-4b91-bcc3-199e021067db",
   "metadata": {},
   "outputs": [],
   "source": [
    "## Analise dos dados\n",
    "import pandas as pd\n",
    "import numpy as np\n",
    "import seaborn as sns\n",
    "import matplotlib.pyplot as plt\n",
    "from sklearn.preprocessing import StandardScaler, LabelEncoder\n",
    "from sklearn.linear_model import LinearRegression\n",
    "from sklearn.linear_model import LogisticRegression\n",
    "from sklearn.model_selection import train_test_split\n",
    "from sklearn.ensemble import RandomForestClassifier\n",
    "from sklearn.metrics import accuracy_score, classification_report\n",
    "from sklearn.metrics import mean_squared_error, r2_score\n",
    "from sklearn.preprocessing import MinMaxScaler\n",
    "from sklearn.model_selection import RandomizedSearchCV\n",
    "from scipy.stats import randint as sp_randint\n",
    "from sklearn.ensemble import GradientBoostingClassifier\n",
    "from scipy.stats import randint, uniform\n",
    "from sklearn.neural_network import MLPClassifier\n",
    "\n",
    "train_data = pd.read_csv('dados/train.csv')"
   ]
  },
  {
   "cell_type": "markdown",
   "id": "4cb045a3-a8de-416a-95f0-37f50881366a",
   "metadata": {},
   "source": [
    "**Analisar as primeiras linhas do conjunto de treino** com esta análise conseguimos perceber que todas as colunas indicam atributos numéricos e categóricos.  \n",
    "**Dados numéricos e categóricos**, maioria dos atributos é numérica. No entanto, as colunas **solo** e **area** são categóricas, pois podem representar classes específicas.\n",
    "A coluna floresta é o alvo (target), pois apresenta valores que indicam diferentes tipos de florestas (3, 6, etc.). Isso sugere que este é um problema de classificação multiclasse."
   ]
  },
  {
   "cell_type": "code",
   "execution_count": 3,
   "id": "821cc673-fcb0-4731-ba7c-703e5e67e7f2",
   "metadata": {
    "scrolled": true
   },
   "outputs": [
    {
     "data": {
      "text/html": [
       "<div>\n",
       "<style scoped>\n",
       "    .dataframe tbody tr th:only-of-type {\n",
       "        vertical-align: middle;\n",
       "    }\n",
       "\n",
       "    .dataframe tbody tr th {\n",
       "        vertical-align: top;\n",
       "    }\n",
       "\n",
       "    .dataframe thead th {\n",
       "        text-align: right;\n",
       "    }\n",
       "</style>\n",
       "<table border=\"1\" class=\"dataframe\">\n",
       "  <thead>\n",
       "    <tr style=\"text-align: right;\">\n",
       "      <th></th>\n",
       "      <th>id</th>\n",
       "      <th>elevacao</th>\n",
       "      <th>aspeto</th>\n",
       "      <th>inclinacao</th>\n",
       "      <th>dh_agua</th>\n",
       "      <th>dv_agua</th>\n",
       "      <th>dh_estrada</th>\n",
       "      <th>sombra_9</th>\n",
       "      <th>sombra_12</th>\n",
       "      <th>sombra_15</th>\n",
       "      <th>dh_Incendio</th>\n",
       "      <th>area</th>\n",
       "      <th>solo</th>\n",
       "      <th>floresta</th>\n",
       "    </tr>\n",
       "  </thead>\n",
       "  <tbody>\n",
       "    <tr>\n",
       "      <th>0</th>\n",
       "      <td>1</td>\n",
       "      <td>2596</td>\n",
       "      <td>51</td>\n",
       "      <td>3</td>\n",
       "      <td>258</td>\n",
       "      <td>0</td>\n",
       "      <td>510</td>\n",
       "      <td>221</td>\n",
       "      <td>232</td>\n",
       "      <td>148</td>\n",
       "      <td>6279</td>\n",
       "      <td>4</td>\n",
       "      <td>5</td>\n",
       "      <td>6</td>\n",
       "    </tr>\n",
       "    <tr>\n",
       "      <th>1</th>\n",
       "      <td>2</td>\n",
       "      <td>2785</td>\n",
       "      <td>155</td>\n",
       "      <td>18</td>\n",
       "      <td>242</td>\n",
       "      <td>118</td>\n",
       "      <td>3090</td>\n",
       "      <td>238</td>\n",
       "      <td>238</td>\n",
       "      <td>122</td>\n",
       "      <td>6211</td>\n",
       "      <td>4</td>\n",
       "      <td>5</td>\n",
       "      <td>3</td>\n",
       "    </tr>\n",
       "    <tr>\n",
       "      <th>2</th>\n",
       "      <td>3</td>\n",
       "      <td>2579</td>\n",
       "      <td>132</td>\n",
       "      <td>6</td>\n",
       "      <td>300</td>\n",
       "      <td>-15</td>\n",
       "      <td>67</td>\n",
       "      <td>230</td>\n",
       "      <td>237</td>\n",
       "      <td>140</td>\n",
       "      <td>6031</td>\n",
       "      <td>4</td>\n",
       "      <td>5</td>\n",
       "      <td>3</td>\n",
       "    </tr>\n",
       "    <tr>\n",
       "      <th>3</th>\n",
       "      <td>4</td>\n",
       "      <td>2606</td>\n",
       "      <td>45</td>\n",
       "      <td>7</td>\n",
       "      <td>270</td>\n",
       "      <td>5</td>\n",
       "      <td>633</td>\n",
       "      <td>222</td>\n",
       "      <td>225</td>\n",
       "      <td>138</td>\n",
       "      <td>6256</td>\n",
       "      <td>4</td>\n",
       "      <td>5</td>\n",
       "      <td>6</td>\n",
       "    </tr>\n",
       "    <tr>\n",
       "      <th>4</th>\n",
       "      <td>5</td>\n",
       "      <td>2605</td>\n",
       "      <td>49</td>\n",
       "      <td>4</td>\n",
       "      <td>234</td>\n",
       "      <td>7</td>\n",
       "      <td>573</td>\n",
       "      <td>222</td>\n",
       "      <td>230</td>\n",
       "      <td>144</td>\n",
       "      <td>6228</td>\n",
       "      <td>4</td>\n",
       "      <td>5</td>\n",
       "      <td>6</td>\n",
       "    </tr>\n",
       "  </tbody>\n",
       "</table>\n",
       "</div>"
      ],
      "text/plain": [
       "   id  elevacao  aspeto  inclinacao  dh_agua  dv_agua  dh_estrada  sombra_9  \\\n",
       "0   1      2596      51           3      258        0         510       221   \n",
       "1   2      2785     155          18      242      118        3090       238   \n",
       "2   3      2579     132           6      300      -15          67       230   \n",
       "3   4      2606      45           7      270        5         633       222   \n",
       "4   5      2605      49           4      234        7         573       222   \n",
       "\n",
       "   sombra_12  sombra_15  dh_Incendio  area  solo  floresta  \n",
       "0        232        148         6279     4     5         6  \n",
       "1        238        122         6211     4     5         3  \n",
       "2        237        140         6031     4     5         3  \n",
       "3        225        138         6256     4     5         6  \n",
       "4        230        144         6228     4     5         6  "
      ]
     },
     "execution_count": 3,
     "metadata": {},
     "output_type": "execute_result"
    }
   ],
   "source": [
    "train_data.head()"
   ]
  },
  {
   "cell_type": "markdown",
   "id": "c111839a-0489-41ae-b7e6-d1fb43278f15",
   "metadata": {},
   "source": [
    "Aqui podemos ver que todos os atributos são numéricos que nao existem valores nulos"
   ]
  },
  {
   "cell_type": "code",
   "execution_count": 4,
   "id": "a25752bb-e0b2-477d-b785-1dfbdaa0be62",
   "metadata": {
    "scrolled": true
   },
   "outputs": [
    {
     "name": "stdout",
     "output_type": "stream",
     "text": [
      "<class 'pandas.core.frame.DataFrame'>\n",
      "RangeIndex: 10620 entries, 0 to 10619\n",
      "Data columns (total 14 columns):\n",
      " #   Column       Non-Null Count  Dtype\n",
      "---  ------       --------------  -----\n",
      " 0   id           10620 non-null  int64\n",
      " 1   elevacao     10620 non-null  int64\n",
      " 2   aspeto       10620 non-null  int64\n",
      " 3   inclinacao   10620 non-null  int64\n",
      " 4   dh_agua      10620 non-null  int64\n",
      " 5   dv_agua      10620 non-null  int64\n",
      " 6   dh_estrada   10620 non-null  int64\n",
      " 7   sombra_9     10620 non-null  int64\n",
      " 8   sombra_12    10620 non-null  int64\n",
      " 9   sombra_15    10620 non-null  int64\n",
      " 10  dh_Incendio  10620 non-null  int64\n",
      " 11  area         10620 non-null  int64\n",
      " 12  solo         10620 non-null  int64\n",
      " 13  floresta     10620 non-null  int64\n",
      "dtypes: int64(14)\n",
      "memory usage: 1.1 MB\n"
     ]
    }
   ],
   "source": [
    "train_data.info()"
   ]
  },
  {
   "cell_type": "markdown",
   "id": "899a3ab0-e4a9-44fe-a41f-e5dc8a29cda8",
   "metadata": {},
   "source": [
    "Usamos o “sns.heatmap()” para se visualizar a correlação entre os atributos numéricos e verificámos\n",
    "que onde existe as maiores relações é nos atributos \"sombra_12\", \"sombra_15\" e onde existe as maiores diferenças é nos atributos \"sombra_9\", \"sombra_15\" "
   ]
  },
  {
   "cell_type": "code",
   "execution_count": 5,
   "id": "65a2bfe6-00ff-4984-b0c8-9ae5177e84cb",
   "metadata": {},
   "outputs": [
    {
     "data": {
      "image/png": "[encoded data removed]",
      "text/plain": [
       "<Figure size 700x400 with 2 Axes>"
      ]
     },
     "metadata": {},
     "output_type": "display_data"
    }
   ],
   "source": [
    "# Selecionando apenas as colunas numéricas\n",
    "numerical_cols = ['elevacao', 'aspeto', 'inclinacao', 'dh_agua', 'dv_agua', \n",
    "                  'dh_estrada', 'sombra_9', 'sombra_12', 'sombra_15', 'dh_Incendio']\n",
    "# Visualizar a matriz de correlação\n",
    "plt.figure(figsize=(7, 4))\n",
    "sns.heatmap(train_data[numerical_cols].corr(), annot=True, cmap=\"viridis\", fmt=\".2f\")\n",
    "plt.title(\"Matriz de Correlação\")\n",
    "plt.show()"
   ]
  },
  {
   "cell_type": "code",
   "execution_count": 6,
   "id": "a87f6963-1e5e-472c-83a1-56c7f9dcdc4e",
   "metadata": {},
   "outputs": [
    {
     "data": {
      "text/html": [
       "<div>\n",
       "<style scoped>\n",
       "    .dataframe tbody tr th:only-of-type {\n",
       "        vertical-align: middle;\n",
       "    }\n",
       "\n",
       "    .dataframe tbody tr th {\n",
       "        vertical-align: top;\n",
       "    }\n",
       "\n",
       "    .dataframe thead th {\n",
       "        text-align: right;\n",
       "    }\n",
       "</style>\n",
       "<table border=\"1\" class=\"dataframe\">\n",
       "  <thead>\n",
       "    <tr style=\"text-align: right;\">\n",
       "      <th></th>\n",
       "      <th>id</th>\n",
       "      <th>elevacao</th>\n",
       "      <th>aspeto</th>\n",
       "      <th>inclinacao</th>\n",
       "      <th>dh_agua</th>\n",
       "      <th>dv_agua</th>\n",
       "      <th>dh_estrada</th>\n",
       "      <th>sombra_9</th>\n",
       "      <th>sombra_12</th>\n",
       "      <th>sombra_15</th>\n",
       "      <th>dh_Incendio</th>\n",
       "      <th>area</th>\n",
       "      <th>solo</th>\n",
       "      <th>floresta</th>\n",
       "    </tr>\n",
       "  </thead>\n",
       "  <tbody>\n",
       "    <tr>\n",
       "      <th>0</th>\n",
       "      <td>1</td>\n",
       "      <td>2596</td>\n",
       "      <td>51</td>\n",
       "      <td>3</td>\n",
       "      <td>258</td>\n",
       "      <td>0</td>\n",
       "      <td>510</td>\n",
       "      <td>221</td>\n",
       "      <td>232</td>\n",
       "      <td>148</td>\n",
       "      <td>6279</td>\n",
       "      <td>4</td>\n",
       "      <td>5</td>\n",
       "      <td>6</td>\n",
       "    </tr>\n",
       "    <tr>\n",
       "      <th>1</th>\n",
       "      <td>2</td>\n",
       "      <td>2785</td>\n",
       "      <td>155</td>\n",
       "      <td>18</td>\n",
       "      <td>242</td>\n",
       "      <td>118</td>\n",
       "      <td>3090</td>\n",
       "      <td>238</td>\n",
       "      <td>238</td>\n",
       "      <td>122</td>\n",
       "      <td>6211</td>\n",
       "      <td>4</td>\n",
       "      <td>5</td>\n",
       "      <td>3</td>\n",
       "    </tr>\n",
       "    <tr>\n",
       "      <th>2</th>\n",
       "      <td>3</td>\n",
       "      <td>2579</td>\n",
       "      <td>132</td>\n",
       "      <td>6</td>\n",
       "      <td>300</td>\n",
       "      <td>-15</td>\n",
       "      <td>67</td>\n",
       "      <td>230</td>\n",
       "      <td>237</td>\n",
       "      <td>140</td>\n",
       "      <td>6031</td>\n",
       "      <td>4</td>\n",
       "      <td>5</td>\n",
       "      <td>3</td>\n",
       "    </tr>\n",
       "    <tr>\n",
       "      <th>3</th>\n",
       "      <td>4</td>\n",
       "      <td>2606</td>\n",
       "      <td>45</td>\n",
       "      <td>7</td>\n",
       "      <td>270</td>\n",
       "      <td>5</td>\n",
       "      <td>633</td>\n",
       "      <td>222</td>\n",
       "      <td>225</td>\n",
       "      <td>138</td>\n",
       "      <td>6256</td>\n",
       "      <td>4</td>\n",
       "      <td>5</td>\n",
       "      <td>6</td>\n",
       "    </tr>\n",
       "    <tr>\n",
       "      <th>4</th>\n",
       "      <td>5</td>\n",
       "      <td>2605</td>\n",
       "      <td>49</td>\n",
       "      <td>4</td>\n",
       "      <td>234</td>\n",
       "      <td>7</td>\n",
       "      <td>573</td>\n",
       "      <td>222</td>\n",
       "      <td>230</td>\n",
       "      <td>144</td>\n",
       "      <td>6228</td>\n",
       "      <td>4</td>\n",
       "      <td>5</td>\n",
       "      <td>6</td>\n",
       "    </tr>\n",
       "    <tr>\n",
       "      <th>...</th>\n",
       "      <td>...</td>\n",
       "      <td>...</td>\n",
       "      <td>...</td>\n",
       "      <td>...</td>\n",
       "      <td>...</td>\n",
       "      <td>...</td>\n",
       "      <td>...</td>\n",
       "      <td>...</td>\n",
       "      <td>...</td>\n",
       "      <td>...</td>\n",
       "      <td>...</td>\n",
       "      <td>...</td>\n",
       "      <td>...</td>\n",
       "      <td>...</td>\n",
       "    </tr>\n",
       "    <tr>\n",
       "      <th>10615</th>\n",
       "      <td>10616</td>\n",
       "      <td>2617</td>\n",
       "      <td>45</td>\n",
       "      <td>9</td>\n",
       "      <td>240</td>\n",
       "      <td>56</td>\n",
       "      <td>666</td>\n",
       "      <td>223</td>\n",
       "      <td>221</td>\n",
       "      <td>133</td>\n",
       "      <td>6244</td>\n",
       "      <td>4</td>\n",
       "      <td>5</td>\n",
       "      <td>6</td>\n",
       "    </tr>\n",
       "    <tr>\n",
       "      <th>10616</th>\n",
       "      <td>10617</td>\n",
       "      <td>2503</td>\n",
       "      <td>157</td>\n",
       "      <td>4</td>\n",
       "      <td>67</td>\n",
       "      <td>4</td>\n",
       "      <td>674</td>\n",
       "      <td>224</td>\n",
       "      <td>240</td>\n",
       "      <td>151</td>\n",
       "      <td>5600</td>\n",
       "      <td>4</td>\n",
       "      <td>18</td>\n",
       "      <td>6</td>\n",
       "    </tr>\n",
       "    <tr>\n",
       "      <th>10617</th>\n",
       "      <td>10618</td>\n",
       "      <td>2610</td>\n",
       "      <td>259</td>\n",
       "      <td>1</td>\n",
       "      <td>120</td>\n",
       "      <td>-1</td>\n",
       "      <td>607</td>\n",
       "      <td>216</td>\n",
       "      <td>239</td>\n",
       "      <td>161</td>\n",
       "      <td>6096</td>\n",
       "      <td>4</td>\n",
       "      <td>5</td>\n",
       "      <td>6</td>\n",
       "    </tr>\n",
       "    <tr>\n",
       "      <th>10618</th>\n",
       "      <td>10619</td>\n",
       "      <td>2570</td>\n",
       "      <td>346</td>\n",
       "      <td>2</td>\n",
       "      <td>0</td>\n",
       "      <td>0</td>\n",
       "      <td>331</td>\n",
       "      <td>215</td>\n",
       "      <td>235</td>\n",
       "      <td>158</td>\n",
       "      <td>5745</td>\n",
       "      <td>4</td>\n",
       "      <td>5</td>\n",
       "      <td>3</td>\n",
       "    </tr>\n",
       "    <tr>\n",
       "      <th>10619</th>\n",
       "      <td>10620</td>\n",
       "      <td>2533</td>\n",
       "      <td>71</td>\n",
       "      <td>9</td>\n",
       "      <td>150</td>\n",
       "      <td>-3</td>\n",
       "      <td>577</td>\n",
       "      <td>230</td>\n",
       "      <td>223</td>\n",
       "      <td>126</td>\n",
       "      <td>5552</td>\n",
       "      <td>4</td>\n",
       "      <td>18</td>\n",
       "      <td>6</td>\n",
       "    </tr>\n",
       "  </tbody>\n",
       "</table>\n",
       "<p>10620 rows × 14 columns</p>\n",
       "</div>"
      ],
      "text/plain": [
       "          id  elevacao  aspeto  inclinacao  dh_agua  dv_agua  dh_estrada  \\\n",
       "0          1      2596      51           3      258        0         510   \n",
       "1          2      2785     155          18      242      118        3090   \n",
       "2          3      2579     132           6      300      -15          67   \n",
       "3          4      2606      45           7      270        5         633   \n",
       "4          5      2605      49           4      234        7         573   \n",
       "...      ...       ...     ...         ...      ...      ...         ...   \n",
       "10615  10616      2617      45           9      240       56         666   \n",
       "10616  10617      2503     157           4       67        4         674   \n",
       "10617  10618      2610     259           1      120       -1         607   \n",
       "10618  10619      2570     346           2        0        0         331   \n",
       "10619  10620      2533      71           9      150       -3         577   \n",
       "\n",
       "       sombra_9  sombra_12  sombra_15  dh_Incendio  area  solo  floresta  \n",
       "0           221        232        148         6279     4     5         6  \n",
       "1           238        238        122         6211     4     5         3  \n",
       "2           230        237        140         6031     4     5         3  \n",
       "3           222        225        138         6256     4     5         6  \n",
       "4           222        230        144         6228     4     5         6  \n",
       "...         ...        ...        ...          ...   ...   ...       ...  \n",
       "10615       223        221        133         6244     4     5         6  \n",
       "10616       224        240        151         5600     4    18         6  \n",
       "10617       216        239        161         6096     4     5         6  \n",
       "10618       215        235        158         5745     4     5         3  \n",
       "10619       230        223        126         5552     4    18         6  \n",
       "\n",
       "[10620 rows x 14 columns]"
      ]
     },
     "execution_count": 6,
     "metadata": {},
     "output_type": "execute_result"
    }
   ],
   "source": [
    "train_data"
   ]
  },
  {
   "cell_type": "markdown",
   "id": "c3ee6e67-9607-419f-b213-ca5a2e377775",
   "metadata": {},
   "source": [
    "Quanto aos atributos \"area\" e \"solo\", usamos um Barplot para mostrar a distribuição do atributo alvo\n",
    "“floresta” para diferentes categorias do atributo “area” e \"solo\". Podemos verificar que os atributos influ-\n",
    "enciam o número de floresta e que a categoria 1 do atributo area e 2, 9 e 15 do atributo solo são as que influenciam mais no tipo de floresta."
   ]
  },
  {
   "cell_type": "code",
   "execution_count": 7,
   "id": "451676e1-ab5f-4bd4-ae7f-b404311ae784",
   "metadata": {},
   "outputs": [
    {
     "data": {
      "image/png": "[encoded data removed]",
      "text/plain": [
       "<Figure size 640x480 with 1 Axes>"
      ]
     },
     "metadata": {},
     "output_type": "display_data"
    },
    {
     "data": {
      "image/png": "[encoded data removed]",
      "text/plain": [
       "<Figure size 640x480 with 1 Axes>"
      ]
     },
     "metadata": {},
     "output_type": "display_data"
    }
   ],
   "source": [
    "mean_floresta_by_area = train_data.groupby('area')['floresta'].mean().reset_index()\n",
    "sns.barplot(x='area', y='floresta', data=mean_floresta_by_area)\n",
    "plt.title('Média de floresta por categoria de area')\n",
    "plt.show()\n",
    "\n",
    "mean_floresta_by_solo = train_data.groupby('solo')['floresta'].mean().reset_index()\n",
    "sns.barplot(x='solo', y='floresta', data=mean_floresta_by_solo)\n",
    "plt.title('Média de floresta por categoria de solo')\n",
    "plt.show()\n"
   ]
  },
  {
   "cell_type": "markdown",
   "id": "a9149506-fefe-4848-a6fc-7279518bc1a7",
   "metadata": {},
   "source": [
    "# Normalização/Padrão dos Dados Numéricos\n",
    "Para normalizar ou padronizar os dados numéricos, vamos usar o StandardScaler. Isso é especialmente importante quando temos diferentes escalas de valores (como elevacao e dh_agua).\n",
    "## Codificação de Variáveis Categóricas\n",
    "Codificamos as variáveis categóricas, como solo e area para serem variaveis de tipo \"category\"."
   ]
  },
  {
   "cell_type": "code",
   "execution_count": 8,
   "id": "bc1b04ce-5e1b-433b-a2a3-eac54b9a47ad",
   "metadata": {},
   "outputs": [],
   "source": [
    "def preprocessing_td(df, target=None, scaler=None):\n",
    "    df_processed = df.copy()\n",
    "    if target is not None:\n",
    "        target_data = df_processed.pop(target)\n",
    "# Tratar colunas categóricas como 'solo' e 'area' (já codificadas como números inteiros)\n",
    "    categorical_columns = ['solo', 'area']\n",
    "    for col in categorical_columns:\n",
    "        if col in df_processed.columns:\n",
    "            df_processed[col] = df_processed[col].astype('category')\n",
    "# Identificar colunas numéricas para normalização\n",
    "    num_cols = df_processed.select_dtypes(include=['int64']).columns\n",
    "    # Excluir colunas categóricas dos números\n",
    "    num_cols = [col for col in num_cols if col not in categorical_columns]\n",
    "    \n",
    "    if scaler is None:\n",
    "        scaler = MinMaxScaler()\n",
    "        df_processed[num_cols] = scaler.fit_transform(df_processed[num_cols])\n",
    "    else:\n",
    "        df_processed[num_cols] = scaler.transform(df_processed[num_cols])\n",
    "    \n",
    "    # Adicionar de volta a variável-alvo, se separada\n",
    "    if target is not None:\n",
    "        df_processed[target] = target_data\n",
    "    \n",
    "    return df_processed, scaler"
   ]
  },
  {
   "cell_type": "code",
   "execution_count": 9,
   "id": "05df2ba0-bc62-4c40-b350-a26def5a90b9",
   "metadata": {},
   "outputs": [],
   "source": [
    "train_data, train_scaler = preprocessing_td(train_data, target=train_data.columns[-1])"
   ]
  },
  {
   "cell_type": "code",
   "execution_count": 10,
   "id": "1ac72c5d-e548-4254-a4ed-d69f3509a344",
   "metadata": {},
   "outputs": [
    {
     "data": {
      "text/html": [
       "<div>\n",
       "<style scoped>\n",
       "    .dataframe tbody tr th:only-of-type {\n",
       "        vertical-align: middle;\n",
       "    }\n",
       "\n",
       "    .dataframe tbody tr th {\n",
       "        vertical-align: top;\n",
       "    }\n",
       "\n",
       "    .dataframe thead th {\n",
       "        text-align: right;\n",
       "    }\n",
       "</style>\n",
       "<table border=\"1\" class=\"dataframe\">\n",
       "  <thead>\n",
       "    <tr style=\"text-align: right;\">\n",
       "      <th></th>\n",
       "      <th>id</th>\n",
       "      <th>elevacao</th>\n",
       "      <th>aspeto</th>\n",
       "      <th>inclinacao</th>\n",
       "      <th>dh_agua</th>\n",
       "      <th>dv_agua</th>\n",
       "      <th>dh_estrada</th>\n",
       "      <th>sombra_9</th>\n",
       "      <th>sombra_12</th>\n",
       "      <th>sombra_15</th>\n",
       "      <th>dh_Incendio</th>\n",
       "      <th>area</th>\n",
       "      <th>solo</th>\n",
       "      <th>floresta</th>\n",
       "    </tr>\n",
       "  </thead>\n",
       "  <tbody>\n",
       "    <tr>\n",
       "      <th>0</th>\n",
       "      <td>0.000000</td>\n",
       "      <td>0.363959</td>\n",
       "      <td>0.141667</td>\n",
       "      <td>0.057692</td>\n",
       "      <td>0.192107</td>\n",
       "      <td>0.194767</td>\n",
       "      <td>0.074020</td>\n",
       "      <td>0.870079</td>\n",
       "      <td>0.858065</td>\n",
       "      <td>0.599190</td>\n",
       "      <td>0.916241</td>\n",
       "      <td>4</td>\n",
       "      <td>5</td>\n",
       "      <td>6</td>\n",
       "    </tr>\n",
       "    <tr>\n",
       "      <th>1</th>\n",
       "      <td>0.000094</td>\n",
       "      <td>0.459898</td>\n",
       "      <td>0.430556</td>\n",
       "      <td>0.346154</td>\n",
       "      <td>0.180194</td>\n",
       "      <td>0.366279</td>\n",
       "      <td>0.448476</td>\n",
       "      <td>0.937008</td>\n",
       "      <td>0.896774</td>\n",
       "      <td>0.493927</td>\n",
       "      <td>0.906318</td>\n",
       "      <td>4</td>\n",
       "      <td>5</td>\n",
       "      <td>3</td>\n",
       "    </tr>\n",
       "    <tr>\n",
       "      <th>2</th>\n",
       "      <td>0.000188</td>\n",
       "      <td>0.355330</td>\n",
       "      <td>0.366667</td>\n",
       "      <td>0.115385</td>\n",
       "      <td>0.223380</td>\n",
       "      <td>0.172965</td>\n",
       "      <td>0.009724</td>\n",
       "      <td>0.905512</td>\n",
       "      <td>0.890323</td>\n",
       "      <td>0.566802</td>\n",
       "      <td>0.880053</td>\n",
       "      <td>4</td>\n",
       "      <td>5</td>\n",
       "      <td>3</td>\n",
       "    </tr>\n",
       "    <tr>\n",
       "      <th>3</th>\n",
       "      <td>0.000283</td>\n",
       "      <td>0.369036</td>\n",
       "      <td>0.125000</td>\n",
       "      <td>0.134615</td>\n",
       "      <td>0.201042</td>\n",
       "      <td>0.202035</td>\n",
       "      <td>0.091872</td>\n",
       "      <td>0.874016</td>\n",
       "      <td>0.812903</td>\n",
       "      <td>0.558704</td>\n",
       "      <td>0.912885</td>\n",
       "      <td>4</td>\n",
       "      <td>5</td>\n",
       "      <td>6</td>\n",
       "    </tr>\n",
       "    <tr>\n",
       "      <th>4</th>\n",
       "      <td>0.000377</td>\n",
       "      <td>0.368528</td>\n",
       "      <td>0.136111</td>\n",
       "      <td>0.076923</td>\n",
       "      <td>0.174237</td>\n",
       "      <td>0.204942</td>\n",
       "      <td>0.083164</td>\n",
       "      <td>0.874016</td>\n",
       "      <td>0.845161</td>\n",
       "      <td>0.582996</td>\n",
       "      <td>0.908799</td>\n",
       "      <td>4</td>\n",
       "      <td>5</td>\n",
       "      <td>6</td>\n",
       "    </tr>\n",
       "    <tr>\n",
       "      <th>...</th>\n",
       "      <td>...</td>\n",
       "      <td>...</td>\n",
       "      <td>...</td>\n",
       "      <td>...</td>\n",
       "      <td>...</td>\n",
       "      <td>...</td>\n",
       "      <td>...</td>\n",
       "      <td>...</td>\n",
       "      <td>...</td>\n",
       "      <td>...</td>\n",
       "      <td>...</td>\n",
       "      <td>...</td>\n",
       "      <td>...</td>\n",
       "      <td>...</td>\n",
       "    </tr>\n",
       "    <tr>\n",
       "      <th>10615</th>\n",
       "      <td>0.999623</td>\n",
       "      <td>0.374619</td>\n",
       "      <td>0.125000</td>\n",
       "      <td>0.173077</td>\n",
       "      <td>0.178704</td>\n",
       "      <td>0.276163</td>\n",
       "      <td>0.096662</td>\n",
       "      <td>0.877953</td>\n",
       "      <td>0.787097</td>\n",
       "      <td>0.538462</td>\n",
       "      <td>0.911134</td>\n",
       "      <td>4</td>\n",
       "      <td>5</td>\n",
       "      <td>6</td>\n",
       "    </tr>\n",
       "    <tr>\n",
       "      <th>10616</th>\n",
       "      <td>0.999717</td>\n",
       "      <td>0.316751</td>\n",
       "      <td>0.436111</td>\n",
       "      <td>0.076923</td>\n",
       "      <td>0.049888</td>\n",
       "      <td>0.200581</td>\n",
       "      <td>0.097823</td>\n",
       "      <td>0.881890</td>\n",
       "      <td>0.909677</td>\n",
       "      <td>0.611336</td>\n",
       "      <td>0.817160</td>\n",
       "      <td>4</td>\n",
       "      <td>18</td>\n",
       "      <td>6</td>\n",
       "    </tr>\n",
       "    <tr>\n",
       "      <th>10617</th>\n",
       "      <td>0.999812</td>\n",
       "      <td>0.371066</td>\n",
       "      <td>0.719444</td>\n",
       "      <td>0.019231</td>\n",
       "      <td>0.089352</td>\n",
       "      <td>0.193314</td>\n",
       "      <td>0.088099</td>\n",
       "      <td>0.850394</td>\n",
       "      <td>0.903226</td>\n",
       "      <td>0.651822</td>\n",
       "      <td>0.889537</td>\n",
       "      <td>4</td>\n",
       "      <td>5</td>\n",
       "      <td>6</td>\n",
       "    </tr>\n",
       "    <tr>\n",
       "      <th>10618</th>\n",
       "      <td>0.999906</td>\n",
       "      <td>0.350761</td>\n",
       "      <td>0.961111</td>\n",
       "      <td>0.038462</td>\n",
       "      <td>0.000000</td>\n",
       "      <td>0.194767</td>\n",
       "      <td>0.048041</td>\n",
       "      <td>0.846457</td>\n",
       "      <td>0.877419</td>\n",
       "      <td>0.639676</td>\n",
       "      <td>0.838319</td>\n",
       "      <td>4</td>\n",
       "      <td>5</td>\n",
       "      <td>3</td>\n",
       "    </tr>\n",
       "    <tr>\n",
       "      <th>10619</th>\n",
       "      <td>1.000000</td>\n",
       "      <td>0.331980</td>\n",
       "      <td>0.197222</td>\n",
       "      <td>0.173077</td>\n",
       "      <td>0.111690</td>\n",
       "      <td>0.190407</td>\n",
       "      <td>0.083745</td>\n",
       "      <td>0.905512</td>\n",
       "      <td>0.800000</td>\n",
       "      <td>0.510121</td>\n",
       "      <td>0.810156</td>\n",
       "      <td>4</td>\n",
       "      <td>18</td>\n",
       "      <td>6</td>\n",
       "    </tr>\n",
       "  </tbody>\n",
       "</table>\n",
       "<p>10620 rows × 14 columns</p>\n",
       "</div>"
      ],
      "text/plain": [
       "             id  elevacao    aspeto  inclinacao   dh_agua   dv_agua  \\\n",
       "0      0.000000  0.363959  0.141667    0.057692  0.192107  0.194767   \n",
       "1      0.000094  0.459898  0.430556    0.346154  0.180194  0.366279   \n",
       "2      0.000188  0.355330  0.366667    0.115385  0.223380  0.172965   \n",
       "3      0.000283  0.369036  0.125000    0.134615  0.201042  0.202035   \n",
       "4      0.000377  0.368528  0.136111    0.076923  0.174237  0.204942   \n",
       "...         ...       ...       ...         ...       ...       ...   \n",
       "10615  0.999623  0.374619  0.125000    0.173077  0.178704  0.276163   \n",
       "10616  0.999717  0.316751  0.436111    0.076923  0.049888  0.200581   \n",
       "10617  0.999812  0.371066  0.719444    0.019231  0.089352  0.193314   \n",
       "10618  0.999906  0.350761  0.961111    0.038462  0.000000  0.194767   \n",
       "10619  1.000000  0.331980  0.197222    0.173077  0.111690  0.190407   \n",
       "\n",
       "       dh_estrada  sombra_9  sombra_12  sombra_15  dh_Incendio area solo  \\\n",
       "0        0.074020  0.870079   0.858065   0.599190     0.916241    4    5   \n",
       "1        0.448476  0.937008   0.896774   0.493927     0.906318    4    5   \n",
       "2        0.009724  0.905512   0.890323   0.566802     0.880053    4    5   \n",
       "3        0.091872  0.874016   0.812903   0.558704     0.912885    4    5   \n",
       "4        0.083164  0.874016   0.845161   0.582996     0.908799    4    5   \n",
       "...           ...       ...        ...        ...          ...  ...  ...   \n",
       "10615    0.096662  0.877953   0.787097   0.538462     0.911134    4    5   \n",
       "10616    0.097823  0.881890   0.909677   0.611336     0.817160    4   18   \n",
       "10617    0.088099  0.850394   0.903226   0.651822     0.889537    4    5   \n",
       "10618    0.048041  0.846457   0.877419   0.639676     0.838319    4    5   \n",
       "10619    0.083745  0.905512   0.800000   0.510121     0.810156    4   18   \n",
       "\n",
       "       floresta  \n",
       "0             6  \n",
       "1             3  \n",
       "2             3  \n",
       "3             6  \n",
       "4             6  \n",
       "...         ...  \n",
       "10615         6  \n",
       "10616         6  \n",
       "10617         6  \n",
       "10618         3  \n",
       "10619         6  \n",
       "\n",
       "[10620 rows x 14 columns]"
      ]
     },
     "execution_count": 10,
     "metadata": {},
     "output_type": "execute_result"
    }
   ],
   "source": [
    "train_data"
   ]
  },
  {
   "cell_type": "markdown",
   "id": "a6201150-9dea-4180-a1e7-d802c2953d6b",
   "metadata": {},
   "source": [
    "## Divisão dos Dados em Conjunto de Treinamento e Teste"
   ]
  },
  {
   "cell_type": "code",
   "execution_count": 11,
   "id": "99da9ea7-958c-44a6-b638-09ad9b302758",
   "metadata": {},
   "outputs": [],
   "source": [
    "# Select features by index slicing\n",
    "selected_features = train_data.iloc[:, 1:-1]\n",
    "# Select the target variable\n",
    "target = train_data['floresta']\n",
    "# Split the data into training and testing sets\n",
    "X_train, X_test, y_train, y_test = train_test_split(selected_features, target, test_size=0.2, random_state=42)"
   ]
  },
  {
   "cell_type": "markdown",
   "id": "bfbf4a11-82a8-4659-85c7-ba46f7dd6365",
   "metadata": {},
   "source": [
    "# Escolha do modelo "
   ]
  },
  {
   "cell_type": "markdown",
   "id": "50e2180e-0037-43b8-bcd7-890252ccd252",
   "metadata": {},
   "source": [
    "## Rede Neuronal"
   ]
  },
  {
   "cell_type": "code",
   "execution_count": 12,
   "id": "807875ac-8be3-4160-b47b-a08025986de6",
   "metadata": {},
   "outputs": [
    {
     "name": "stdout",
     "output_type": "stream",
     "text": [
      "Acurácia: 0.737758945386064\n",
      "RMSE: 1.1838922050996317\n",
      "R²: 0.6510050163474078\n"
     ]
    }
   ],
   "source": [
    "# Configurar o modelo de rede neural\n",
    "mlp_classifier = MLPClassifier(\n",
    "    hidden_layer_sizes=(100,),  # Duas camadas ocultas com 100 e 50 neurônios\n",
    "    activation='relu',            # Função de ativação (ReLU)\n",
    "    solver='adam',                # Otimizador (Adam)\n",
    "    learning_rate='adaptive',     # Taxa de aprendizado adaptativa\n",
    "    max_iter=1000,                 # Máximo de iterações\n",
    "    random_state=42               # Random state para reprodutibilidade\n",
    ")\n",
    "\n",
    "# Treinar o modelo\n",
    "mlp_classifier.fit(X_train, y_train)\n",
    "\n",
    "# Fazer previsões\n",
    "y_pred_mlp = mlp_classifier.predict(X_test)\n",
    "\n",
    "# Avaliar o modelo\n",
    "accuracy_mlp = accuracy_score(y_test, y_pred_mlp)\n",
    "mse_mlp = mean_squared_error(y_test, y_pred_mlp)\n",
    "rmse_mlp = np.sqrt(mse_mlp)\n",
    "r2_mlp = r2_score(y_test, y_pred_mlp)\n",
    "\n",
    "# Exibir métricas de desempenho\n",
    "print(f\"Acurácia: {accuracy_mlp}\")\n",
    "print(f\"RMSE: {rmse_mlp}\")\n",
    "print(f\"R²: {r2_mlp}\")"
   ]
  },
  {
   "cell_type": "code",
   "execution_count": 13,
   "id": "05b93b7f-0b87-4f67-b5b3-035c2296a37d",
   "metadata": {},
   "outputs": [
    {
     "name": "stdout",
     "output_type": "stream",
     "text": [
      "Fitting 3 folds for each of 50 candidates, totalling 150 fits\n",
      "Melhores parâmetros: {'activation': 'relu', 'alpha': np.float64(0.006610770255019445), 'hidden_layer_sizes': (150, 100, 50), 'learning_rate': 'constant', 'solver': 'adam'}\n",
      "Melhor acurácia: 0.6903248587570622\n"
     ]
    }
   ],
   "source": [
    "# Definir os hiperparâmetros e os intervalos de busca\n",
    "param_dist = {\n",
    "    'hidden_layer_sizes': [(50,), (100,), (100, 50), (150, 100, 50)],\n",
    "    'activation': ['relu', 'tanh'],\n",
    "    'solver': ['adam', 'sgd'],\n",
    "    'alpha': uniform(0.0001, 0.01),  # Amostras aleatórias entre 0.0001 e 0.01\n",
    "    'learning_rate': ['constant', 'adaptive'],\n",
    "}\n",
    "\n",
    "# Configurar o RandomizedSearchCV\n",
    "random_search = RandomizedSearchCV(\n",
    "    estimator=MLPClassifier(max_iter=2000, random_state=42, early_stopping=True),\n",
    "    param_distributions=param_dist,\n",
    "    n_iter=50,  # Número de combinações aleatórias a serem testadas\n",
    "    scoring='accuracy',\n",
    "    cv=3,  # Validação cruzada com 3 divisões\n",
    "    verbose=2,\n",
    "    n_jobs=-1,\n",
    "    random_state=42\n",
    ")\n",
    "\n",
    "# Ajustar o modelo aos dados\n",
    "random_search.fit(X_train, y_train)\n",
    "\n",
    "# Exibir os melhores parâmetros e o desempenho correspondente\n",
    "print(f\"Melhores parâmetros: {random_search.best_params_}\")\n",
    "print(f\"Melhor acurácia: {random_search.best_score_}\")"
   ]
  },
  {
   "cell_type": "markdown",
   "id": "dfb57a0b-68db-4d23-b059-0a7bf42489f5",
   "metadata": {},
   "source": [
    "Após execução do Random Search a melhor escolha dos parametros é a seguinte: Melhores parâmetros: {'activation': 'relu', 'alpha': np.float64(0.006610770255019445), 'hidden_layer_sizes': (150, 100, 50), 'learning_rate': 'constant', 'solver': 'adam'}"
   ]
  },
  {
   "cell_type": "code",
   "execution_count": 14,
   "id": "2b2f355b-7069-4ef6-a7fa-6677e81affc9",
   "metadata": {},
   "outputs": [
    {
     "name": "stdout",
     "output_type": "stream",
     "text": [
      "Acurácia (melhor modelo): 0.7848399246704332\n",
      "RMSE (melhor modelo): 1.0340256474324139\n",
      "R² (melhor modelo): 0.7337696983960239\n"
     ]
    }
   ],
   "source": [
    "# Inicializar o modelo com os melhores parâmetros\n",
    "mlp_best = MLPClassifier(\n",
    "    activation='relu',\n",
    "    alpha=np.float64(0.006610770255019445),\n",
    "    hidden_layer_sizes=(150, 100, 50),\n",
    "    learning_rate='constant',\n",
    "    solver='adam',\n",
    "    max_iter=2000,  # Ajustar max_iter para garantir convergência\n",
    "    random_state=42\n",
    ")\n",
    "\n",
    "# Treinar o modelo com os melhores parâmetros\n",
    "mlp_best.fit(X_train, y_train)\n",
    "\n",
    "# Fazer previsões\n",
    "y_pred_best = mlp_best.predict(X_test)\n",
    "\n",
    "# Avaliar o modelo\n",
    "accuracy_best = accuracy_score(y_test, y_pred_best)\n",
    "mse_best = mean_squared_error(y_test, y_pred_best)\n",
    "rmse_best = np.sqrt(mse_best)\n",
    "r2_best = r2_score(y_test, y_pred_best)\n",
    "\n",
    "# Exibir métricas de desempenho\n",
    "print(f\"Acurácia (melhor modelo): {accuracy_best}\")\n",
    "print(f\"RMSE (melhor modelo): {rmse_best}\")\n",
    "print(f\"R² (melhor modelo): {r2_best}\")\n"
   ]
  },
  {
   "cell_type": "markdown",
   "id": "d4de8919-4434-4cce-b8ab-1834dfd808e4",
   "metadata": {},
   "source": [
    "## Submissão do modelo"
   ]
  },
  {
   "cell_type": "code",
   "execution_count": 15,
   "id": "67110b95-dabc-41e0-9ce2-ecd1b764086e",
   "metadata": {},
   "outputs": [
    {
     "data": {
      "text/html": [
       "<div>\n",
       "<style scoped>\n",
       "    .dataframe tbody tr th:only-of-type {\n",
       "        vertical-align: middle;\n",
       "    }\n",
       "\n",
       "    .dataframe tbody tr th {\n",
       "        vertical-align: top;\n",
       "    }\n",
       "\n",
       "    .dataframe thead th {\n",
       "        text-align: right;\n",
       "    }\n",
       "</style>\n",
       "<table border=\"1\" class=\"dataframe\">\n",
       "  <thead>\n",
       "    <tr style=\"text-align: right;\">\n",
       "      <th></th>\n",
       "      <th>id</th>\n",
       "      <th>floresta</th>\n",
       "    </tr>\n",
       "  </thead>\n",
       "  <tbody>\n",
       "    <tr>\n",
       "      <th>0</th>\n",
       "      <td>10621</td>\n",
       "      <td>2</td>\n",
       "    </tr>\n",
       "    <tr>\n",
       "      <th>1</th>\n",
       "      <td>10622</td>\n",
       "      <td>6</td>\n",
       "    </tr>\n",
       "    <tr>\n",
       "      <th>2</th>\n",
       "      <td>10623</td>\n",
       "      <td>6</td>\n",
       "    </tr>\n",
       "    <tr>\n",
       "      <th>3</th>\n",
       "      <td>10624</td>\n",
       "      <td>6</td>\n",
       "    </tr>\n",
       "    <tr>\n",
       "      <th>4</th>\n",
       "      <td>10625</td>\n",
       "      <td>6</td>\n",
       "    </tr>\n",
       "  </tbody>\n",
       "</table>\n",
       "</div>"
      ],
      "text/plain": [
       "      id  floresta\n",
       "0  10621         2\n",
       "1  10622         6\n",
       "2  10623         6\n",
       "3  10624         6\n",
       "4  10625         6"
      ]
     },
     "execution_count": 15,
     "metadata": {},
     "output_type": "execute_result"
    }
   ],
   "source": [
    "# load test data\n",
    "test_data = pd.read_csv(\"dados/test.csv\")\n",
    "test_data, _ = preprocessing_td(test_data, scaler=train_scaler)\n",
    "test_data = test_data.iloc[:, 1:] # Select columns from index 1 to 2 (exclusive)\n",
    "\n",
    "predicted_test = mlp_best.predict(test_data)\n",
    "submission = pd.read_csv(\"dados/sample_submission.csv\")\n",
    "submission['floresta'] = predicted_test \n",
    "submission.to_csv(\"dados/submission.csv\", index=False)\n",
    "submission.head()\n",
    "#!kaggle competitions submit -c classificacao-florestas -f dados/submission.csv -m \"Modelo com Rede Neuronal\""
   ]
  },
  {
   "cell_type": "markdown",
   "id": "cb71263a-0399-4942-b5f8-3bc756aee992",
   "metadata": {},
   "source": [
    "**Score no Kaggle** com este modelo, o score no Kaggle foi de RMSE 0.77535"
   ]
  },
  {
   "cell_type": "markdown",
   "id": "037fd03c-2e78-4190-bd95-6d1242f98e81",
   "metadata": {},
   "source": [
    "## Random Forest Classifier"
   ]
  },
  {
   "cell_type": "code",
   "execution_count": 16,
   "id": "80a7f12d-cfe6-4594-9010-45eb0c944348",
   "metadata": {},
   "outputs": [
    {
     "name": "stdout",
     "output_type": "stream",
     "text": [
      "Acurácia: 0.85969868173258\n",
      "              precision    recall  f1-score   support\n",
      "\n",
      "           1       0.93      0.97      0.95       316\n",
      "           2       0.80      0.78      0.79       312\n",
      "           3       0.80      0.71      0.75       299\n",
      "           4       0.82      0.85      0.83       292\n",
      "           5       0.93      0.93      0.93       301\n",
      "           6       0.89      0.92      0.90       319\n",
      "           7       0.84      0.86      0.85       285\n",
      "\n",
      "    accuracy                           0.86      2124\n",
      "   macro avg       0.86      0.86      0.86      2124\n",
      "weighted avg       0.86      0.86      0.86      2124\n",
      "\n",
      "RMSE: 0.8075094817328848\n"
     ]
    }
   ],
   "source": [
    "# Treinando o modelo\n",
    "model = RandomForestClassifier(random_state=42)\n",
    "model.fit(X_train, y_train)\n",
    "\n",
    "# Previsões\n",
    "y_pred = model.predict(X_test)\n",
    "\n",
    "# Avaliação\n",
    "print(f\"Acurácia: {accuracy_score(y_test, y_pred)}\")\n",
    "print(classification_report(y_test, y_pred))\n",
    "# Calcular o RMSE\n",
    "rmse = np.sqrt(mean_squared_error(y_test, y_pred))\n",
    "print(f\"RMSE: {rmse}\")"
   ]
  },
  {
   "cell_type": "markdown",
   "id": "be87a82c-54fa-4a2e-bacf-a691712327bf",
   "metadata": {},
   "source": [
    "## Submissão do modelo"
   ]
  },
  {
   "cell_type": "code",
   "execution_count": 17,
   "id": "aa655649-65b1-4049-9df9-fb11998feb7c",
   "metadata": {
    "scrolled": true
   },
   "outputs": [],
   "source": [
    "# load test data\n",
    "test_data = pd.read_csv(\"dados/test.csv\")\n",
    "test_data, _ = preprocessing_td(test_data, scaler=train_scaler)\n",
    "test_data = test_data.iloc[:, 1:] # Select columns from index 1 to 2 (exclusive)\n",
    "\n",
    "predicted_test = model.predict(test_data)\n",
    "submission = pd.read_csv(\"dados/sample_submission.csv\")\n",
    "submission['floresta'] = predicted_test \n",
    "submission.to_csv(\"dados/submission.csv\", index=False)\n",
    "#submission.head()\n",
    "#!kaggle competitions submit -c classificacao-florestas -f dados/submission.csv -m \"Modelo com Randon Forest\""
   ]
  },
  {
   "cell_type": "markdown",
   "id": "cd1e9936-50e9-4ac9-8016-dc990a252e59",
   "metadata": {},
   "source": [
    "**Score no Kaggle** com este modelo, o score no Kaggle foi de RMSE 0.84330"
   ]
  },
  {
   "cell_type": "markdown",
   "id": "1b423ebe-2565-4c4f-b265-451d6fd5ae5e",
   "metadata": {},
   "source": [
    "## Ajuste do Modelo"
   ]
  },
  {
   "cell_type": "code",
   "execution_count": null,
   "id": "65d41f70-0de2-4141-8465-9b8915bbe48b",
   "metadata": {
    "scrolled": true
   },
   "outputs": [
    {
     "name": "stdout",
     "output_type": "stream",
     "text": [
      "Fitting 3 folds for each of 100 candidates, totalling 300 fits\n"
     ]
    }
   ],
   "source": [
    "# Espaço de hiperparâmetros\n",
    "param_dist = {\n",
    "    'n_estimators': sp_randint(100, 500),\n",
    "    'max_depth': [None] + list(range(10, 50)),\n",
    "    'min_samples_split': sp_randint(2, 11),\n",
    "    'min_samples_leaf': sp_randint(1, 5),\n",
    "}\n",
    "\n",
    "# Modelo base\n",
    "rf = RandomForestClassifier(random_state=42)\n",
    "\n",
    "# RandomizedSearchCV\n",
    "random_search = RandomizedSearchCV(\n",
    "    estimator=rf,\n",
    "    param_distributions=param_dist,\n",
    "    n_iter=100,\n",
    "    cv=3,\n",
    "    n_jobs=-1,\n",
    "    verbose=2,\n",
    "    scoring='accuracy',  # Métrica de avaliação\n",
    "    random_state=42\n",
    ")\n",
    "\n",
    "# Ajustar o modelo\n",
    "random_search.fit(X_train, y_train)\n",
    "\n",
    "# Melhor modelo\n",
    "print(\"Melhores parâmetros:\", random_search.best_params_)"
   ]
  },
  {
   "cell_type": "markdown",
   "id": "cbe525c3-5654-464c-88af-2c23f5b8453f",
   "metadata": {},
   "source": [
    "Após execução do Randomized Search a melhor escolha dos parametros é a seguinte: Melhores parâmetros: {'max_depth': 38, 'min_samples_leaf': 1, 'min_samples_split': 2, 'n_estimators': 416}"
   ]
  },
  {
   "cell_type": "code",
   "execution_count": 19,
   "id": "58437206-017f-4e54-a06e-6c10298175f8",
   "metadata": {
    "scrolled": true
   },
   "outputs": [
    {
     "name": "stdout",
     "output_type": "stream",
     "text": [
      "Acurácia: 0.8615819209039548\n",
      "RMSE: 0.8075094817328848\n"
     ]
    }
   ],
   "source": [
    "# Melhor configuração de hiperparâmetros\n",
    "best_params = {'max_depth': 38, 'min_samples_leaf': 1, 'min_samples_split': 2, 'n_estimators': 416}\n",
    "\n",
    "# Criar o modelo com os melhores parâmetros\n",
    "best_rf = RandomForestClassifier(**best_params, random_state=42)\n",
    "\n",
    "# Treinar o modelo nos dados de treino\n",
    "best_rf.fit(X_train, y_train)\n",
    "\n",
    "# Fazer previsões\n",
    "y_pred = best_rf.predict(X_test)\n",
    "accuracy = accuracy_score(y_test, y_pred)\n",
    "print(f\"Acurácia: {accuracy}\")\n",
    "print(f\"RMSE: {rmse}\")"
   ]
  },
  {
   "cell_type": "code",
   "execution_count": 21,
   "id": "1a28354b-deca-4ff0-8e4b-a6d47502ab74",
   "metadata": {},
   "outputs": [],
   "source": [
    "# load test data\n",
    "test_data = pd.read_csv(\"dados/test.csv\")\n",
    "test_data, _ = preprocessing_td(test_data, scaler=train_scaler)\n",
    "test_data = test_data.iloc[:, 1:] # Select columns from index 1 to 2 (exclusive)\n",
    "\n",
    "predicted_test = best_rf.predict(test_data)\n",
    "submission = pd.read_csv(\"dados/sample_submission.csv\")\n",
    "submission['floresta'] = predicted_test \n",
    "submission.to_csv(\"dados/submission.csv\", index=False)\n",
    "#submission.head()\n",
    "#!kaggle competitions submit -c classificacao-florestas -f dados/submission.csv -m \"Modelo com Random Forest Regressor (RandomizedSearchCV)\""
   ]
  },
  {
   "cell_type": "markdown",
   "id": "8089a94f-f935-4de0-848b-c731afdc20bf",
   "metadata": {},
   "source": [
    "**Score no Kaggle** com este modelo, o score no Kaggle foi de RMSE 0.84908"
   ]
  },
  {
   "cell_type": "markdown",
   "id": "dd6f9085-e99b-4a24-b815-4ed6f44fb341",
   "metadata": {},
   "source": [
    "## Regressão Linear"
   ]
  },
  {
   "cell_type": "markdown",
   "id": "e7516c92-424f-40b8-88fd-92d55fe9564a",
   "metadata": {},
   "source": [
    "*Treinamento de um Modelo Linear*"
   ]
  },
  {
   "cell_type": "markdown",
   "id": "645b5f29-9a82-4fd7-9336-a2c0d2e39496",
   "metadata": {},
   "source": [
    "O modelo mais comum para classificação multiclasse é a Regressão Logística, que pode ser configurada para lidar com múltiplas classes automaticamente."
   ]
  },
  {
   "cell_type": "code",
   "execution_count": 22,
   "id": "e6130720-22f1-4d39-a374-f502802a147d",
   "metadata": {},
   "outputs": [
    {
     "name": "stderr",
     "output_type": "stream",
     "text": [
      "/home/luis/meu_ambiente/lib/python3.12/site-packages/sklearn/linear_model/_sag.py:348: ConvergenceWarning: The max_iter was reached which means the coef_ did not converge\n",
      "  warnings.warn(\n"
     ]
    }
   ],
   "source": [
    "# Criar e treinar o modelo\n",
    "model = LogisticRegression(solver='sag', random_state=42)\n",
    "model.fit(X_train, y_train)\n",
    "\n",
    "# Fazer previsões\n",
    "y_pred = model.predict(X_test)"
   ]
  },
  {
   "cell_type": "code",
   "execution_count": 23,
   "id": "68c44d95-b200-4fe7-95a7-a5625f452c68",
   "metadata": {},
   "outputs": [
    {
     "name": "stdout",
     "output_type": "stream",
     "text": [
      "Acurácia: 0.6530131826741996\n",
      "RMSE: 1.3407280817068064\n",
      "\n",
      "Relatório de Classificação:\n"
     ]
    }
   ],
   "source": [
    "# Acurácia\n",
    "print(\"Acurácia:\", accuracy_score(y_test, y_pred))\n",
    "\n",
    "rmse = np.sqrt(mean_squared_error(y_test, y_pred))\n",
    "print(f\"RMSE: {rmse}\")\n",
    "# Relatório detalhado\n",
    "print(\"\\nRelatório de Classificação:\")\n",
    "#print(classification_report(y_test, y_pred, target_names=label_encoder.classes_))"
   ]
  },
  {
   "cell_type": "markdown",
   "id": "e385abd8-cf48-4b41-b9b3-6f8881579c3c",
   "metadata": {},
   "source": [
    "## Submissão do modelo"
   ]
  },
  {
   "cell_type": "code",
   "execution_count": 24,
   "id": "8312408a-86da-40d6-885f-f3e57e67c28e",
   "metadata": {},
   "outputs": [
    {
     "data": {
      "text/html": [
       "<div>\n",
       "<style scoped>\n",
       "    .dataframe tbody tr th:only-of-type {\n",
       "        vertical-align: middle;\n",
       "    }\n",
       "\n",
       "    .dataframe tbody tr th {\n",
       "        vertical-align: top;\n",
       "    }\n",
       "\n",
       "    .dataframe thead th {\n",
       "        text-align: right;\n",
       "    }\n",
       "</style>\n",
       "<table border=\"1\" class=\"dataframe\">\n",
       "  <thead>\n",
       "    <tr style=\"text-align: right;\">\n",
       "      <th></th>\n",
       "      <th>id</th>\n",
       "      <th>floresta</th>\n",
       "    </tr>\n",
       "  </thead>\n",
       "  <tbody>\n",
       "    <tr>\n",
       "      <th>0</th>\n",
       "      <td>10621</td>\n",
       "      <td>3</td>\n",
       "    </tr>\n",
       "    <tr>\n",
       "      <th>1</th>\n",
       "      <td>10622</td>\n",
       "      <td>3</td>\n",
       "    </tr>\n",
       "    <tr>\n",
       "      <th>2</th>\n",
       "      <td>10623</td>\n",
       "      <td>3</td>\n",
       "    </tr>\n",
       "    <tr>\n",
       "      <th>3</th>\n",
       "      <td>10624</td>\n",
       "      <td>3</td>\n",
       "    </tr>\n",
       "    <tr>\n",
       "      <th>4</th>\n",
       "      <td>10625</td>\n",
       "      <td>3</td>\n",
       "    </tr>\n",
       "  </tbody>\n",
       "</table>\n",
       "</div>"
      ],
      "text/plain": [
       "      id  floresta\n",
       "0  10621         3\n",
       "1  10622         3\n",
       "2  10623         3\n",
       "3  10624         3\n",
       "4  10625         3"
      ]
     },
     "execution_count": 24,
     "metadata": {},
     "output_type": "execute_result"
    }
   ],
   "source": [
    "# load test data\n",
    "test_data = pd.read_csv(\"dados/test.csv\")\n",
    "test_data, _ = preprocessing_td(test_data, scaler=train_scaler)\n",
    "test_data = test_data.iloc[:, 1:] # Select columns from index 1 to 2 (exclusive)\n",
    "\n",
    "predicted_test = model.predict(test_data)\n",
    "submission = pd.read_csv(\"dados/sample_submission.csv\")\n",
    "submission['floresta'] = predicted_test \n",
    "submission.to_csv(\"dados/submission.csv\", index=False)\n",
    "submission.head()\n",
    "#!kaggle competitions submit -c classificacao-florestas -f dados/submission.csv -m \"Modelo com Regressão Logística\""
   ]
  },
  {
   "cell_type": "markdown",
   "id": "8a6ab125-d7b6-408b-ab9f-cf875388aa70",
   "metadata": {},
   "source": [
    "**Score no Kaggle** com este modelo, o score no Kaggle foi de RMSE 0.64479"
   ]
  },
  {
   "cell_type": "markdown",
   "id": "e64f8bfe-7453-480e-a70e-62502afcdd2b",
   "metadata": {},
   "source": [
    "## Gradient Boosting Classifier"
   ]
  },
  {
   "cell_type": "code",
   "execution_count": 25,
   "id": "7334421c-732c-4fdd-98b5-ee2af3bcede7",
   "metadata": {},
   "outputs": [
    {
     "name": "stdout",
     "output_type": "stream",
     "text": [
      "Acurácia: 0.7923728813559322\n",
      "RMSE: 1.022809542240725\n",
      "R²: 0.739513989359738\n"
     ]
    }
   ],
   "source": [
    "# Criar e configurar o modelo de classificação\n",
    "gb_classifier = GradientBoostingClassifier(\n",
    "    n_estimators=100,\n",
    "    learning_rate=0.1,\n",
    "    max_depth=3,\n",
    "    random_state=42\n",
    ")\n",
    "\n",
    "# Treinar o modelo\n",
    "gb_classifier.fit(X_train, y_train)\n",
    "\n",
    "# Fazer previsões\n",
    "y_pred = gb_classifier.predict(X_test)\n",
    "\n",
    "# Acurácia\n",
    "accuracy = accuracy_score(y_test, y_pred)\n",
    "\n",
    "# Avaliar o modelo\n",
    "mse = mean_squared_error(y_test, y_pred)\n",
    "rmse = np.sqrt(mse)\n",
    "r2 = r2_score(y_test, y_pred)\n",
    "\n",
    "print(f\"Acurácia: {accuracy}\")\n",
    "print(f\"RMSE: {rmse}\")\n",
    "print(f\"R²: {r2}\")"
   ]
  },
  {
   "cell_type": "code",
   "execution_count": null,
   "id": "16dc7a54-2cc4-4b57-bce7-bc49cb8565ce",
   "metadata": {
    "scrolled": true
   },
   "outputs": [
    {
     "name": "stdout",
     "output_type": "stream",
     "text": [
      "Fitting 3 folds for each of 100 candidates, totalling 300 fits\n"
     ]
    }
   ],
   "source": [
    "# Espaço de hiperparâmetros\n",
    "param_dist = {\n",
    "'n_estimators': [100, 200, 300], # Número de árvores\n",
    "'learning_rate': [0.01, 0.1, 0.2], # Taxa de aprendizagem\n",
    "'max_depth': [3, 4, 5], # Profundidade máxima de cada árvore\n",
    "'min_samples_split': [2, 4], # Número mínimo de amostras para dividir um nó\n",
    "'min_samples_leaf': [1, 2] # Número mínimo de amostras em uma folha\n",
    "}\n",
    "\n",
    "# RandomizedSearchCV\n",
    "random_search = RandomizedSearchCV(\n",
    "    estimator=GradientBoostingClassifier(random_state=42),\n",
    "    param_distributions=param_dist,\n",
    "    n_iter=100,\n",
    "    scoring='accuracy',\n",
    "    cv=3,\n",
    "    random_state=42,\n",
    "    n_jobs=-1,\n",
    "    verbose=2\n",
    ")\n",
    "\n",
    "# Executar busca\n",
    "random_search.fit(X_train, y_train)\n",
    "\n",
    "# Melhor modelo\n",
    "best_gb = random_search.best_estimator_\n",
    "\n",
    "# Avaliar no conjunto de teste\n",
    "y_pred = best_gb.predict(X_test)\n",
    "accuracy = accuracy_score(y_test, y_pred)\n",
    "\n",
    "print(f\"Melhores parâmetros: {random_search.best_params_}\")\n",
    "print(f\"Acurácia após otimização: {accuracy}\")"
   ]
  },
  {
   "cell_type": "markdown",
   "id": "0c9d835e-0ab2-458f-a4ae-791a3e6641ec",
   "metadata": {},
   "source": [
    "Após execução do Randomized Search a melhor escolha dos parametros é a seguinte: Melhores parâmetros: {'n_estimators': 141, 'min_samples_split': 16, 'min_samples_leaf': 3, 'max_depth': 9, 'learning_rate': 0.13999278615555305}"
   ]
  },
  {
   "cell_type": "code",
   "execution_count": null,
   "id": "46f3a17d-e368-4e85-b991-f50a5cdb0950",
   "metadata": {
    "scrolled": true
   },
   "outputs": [],
   "source": [
    "# Configurar o modelo com os melhores parâmetros\n",
    "gb_classifier_optimized = GradientBoostingClassifier(\n",
    "    learning_rate=0.13999278615555305,  # Taxa de aprendizado ajustada\n",
    "    max_depth=9,                        # Profundidade máxima ajustada\n",
    "    min_samples_leaf=3,                 # Mínimo de amostras em um nó folha\n",
    "    min_samples_split=16,               # Mínimo de amostras para dividir um nó\n",
    "    n_estimators=141,                   # Número de árvores ajustado\n",
    "    random_state=42                     # Random state para reprodutibilidade\n",
    ")\n",
    "\n",
    "# Treinar o modelo otimizado\n",
    "gb_classifier_optimized.fit(X_train, y_train)\n",
    "\n",
    "# Fazer previsões no conjunto de teste\n",
    "y_pred_optimized = gb_classifier_optimized.predict(X_test)\n",
    "\n",
    "# Avaliar o modelo otimizado\n",
    "accuracy_optimized = accuracy_score(y_test, y_pred_optimized)\n",
    "mse_optimized = mean_squared_error(y_test, y_pred_optimized)\n",
    "rmse_optimized = np.sqrt(mse_optimized)\n",
    "r2_optimized = r2_score(y_test, y_pred_optimized)\n",
    "\n",
    "# Exibir métricas de desempenho\n",
    "print(f\"Acurácia: {accuracy_optimized}\")\n",
    "print(f\"RMSE: {rmse_optimized}\")\n",
    "print(f\"R²: {r2_optimized}\")\n"
   ]
  },
  {
   "cell_type": "code",
   "execution_count": null,
   "id": "d9f0d430-4f70-482b-a5d8-5a5c4443d0f3",
   "metadata": {},
   "outputs": [],
   "source": [
    "# load test data\n",
    "test_data = pd.read_csv(\"dados/test.csv\")\n",
    "test_data, _ = preprocessing_td(test_data, scaler=train_scaler)\n",
    "test_data = test_data.iloc[:, 1:] # Select columns from index 1 to 2 (exclusive)\n",
    "\n",
    "predicted_test = gb_classifier_optimized.predict(test_data)\n",
    "submission = pd.read_csv(\"dados/sample_submission.csv\")\n",
    "submission['floresta'] = predicted_test \n",
    "submission.to_csv(\"dados/submission.csv\", index=False)\n",
    "submission.head()\n",
    "#!kaggle competitions submit -c classificacao-florestas -f dados/submission.csv -m \"Submissão do modelo GBClassifier\""
   ]
  },
  {
   "cell_type": "markdown",
   "id": "c84dd036-b102-4881-b76f-81709ddb9ade",
   "metadata": {},
   "source": [
    "**Score no Kaggle** com este modelo, o score no Kaggle foi de RMSE 0.84874"
   ]
  },
  {
   "cell_type": "markdown",
   "id": "00ccbae9-f4e4-4e09-bf3d-a7e742c9f0cf",
   "metadata": {},
   "source": [
    "## Melhor modelo"
   ]
  },
  {
   "cell_type": "markdown",
   "id": "dcd836cc-1664-41ab-b2af-e5d9a546bb1e",
   "metadata": {},
   "source": [
    "O modelo que nos mostrou melhores resultados foi o Random Florest Classifier. Inicialmente, o modelo foi treinado com parâmetros padrão e resultou num Acurácia de 0.85969868173258 e um RMSE de 0.8075094817328848.\n",
    "Achámos que o modelo poderia ter potencial neste problema e decidimos melhorar o desempenho do modelo. Foi realizado um processo de otimização de parâmetros utilizando RandomizedSearchCV. Os parâmetros a ajustar foram o número de árvores, a taxa de aprendizagem, a profundidade máxima de cada árvore, o número mínimo de amostras para dividir um nó, e o número mínimo de amostras em uma folha.\n",
    "A melhor configuração encontrada foi: - 'max_depth': 38, 'min_samples_leaf': 1, 'min_samples_split': 2, 'n_estimators': 416\n",
    "Após a otimização, o modelo ajustado foi treinado e avaliado, obtendo o mesmo RMSE de\n",
    "0.85969868173258 e o aumento da Acurácia 0.8615819209039548, indicando uma melhoria significativa em relação à configuração padrão.\n",
    "Com base nos resultados obtidos, o modelo RandomForestClassifier otimizado provou ser a escolha mais eficaz para o problema em questão, superando outras abordagens testadas e demonstrando um equilíbrio ideal entre complexidade e desempenho. No Kaggle obteve um **score** de 0.84908."
   ]
  }
 ],
 "metadata": {
  "kernelspec": {
   "display_name": "Python 3 (ipykernel)",
   "language": "python",
   "name": "python3"
  },
  "language_info": {
   "codemirror_mode": {
    "name": "ipython",
    "version": 3
   },
   "file_extension": ".py",
   "mimetype": "text/x-python",
   "name": "python",
   "nbconvert_exporter": "python",
   "pygments_lexer": "ipython3",
   "version": "3.12.3"
  }
 },
 "nbformat": 4,
 "nbformat_minor": 5
}
